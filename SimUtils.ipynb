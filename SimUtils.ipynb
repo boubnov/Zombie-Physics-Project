{
 "cells": [
  {
   "cell_type": "code",
   "execution_count": 2,
   "metadata": {},
   "outputs": [],
   "source": [
    "import numpy as np\n",
    "import networkx as nx\n",
    "import pandas as pd\n",
    "import matplotlib.pyplot as plt\n",
    "%matplotlib inline"
   ]
  },
  {
   "cell_type": "code",
   "execution_count": 84,
   "metadata": {},
   "outputs": [],
   "source": [
    "class SZRmodel(object):\n",
    "    \n",
    "        ######################################\n",
    "        # Main class of the simulation.      #\n",
    "        # contains all essential information # \n",
    "        # to run the simulation.             #\n",
    "        ######################################\n",
    "        \n",
    "        #Probabilities of interactions are defined as class variables\n",
    "        \n",
    "        kill_prob = 0.3\n",
    "        inf_prob = 0.2\n",
    "        assert kill_prob+inf_prob <= 1\n",
    "        \n",
    "        #The initializer takes a networkx object as a topology\n",
    "        #and iniatializes the model at t = 0\n",
    "        \n",
    "        def __init__(self,topology,Znumber=1):\n",
    "            \n",
    "            assert type(topology) is nx.classes.graph.Graph\n",
    "            assert type(Znumber) is int\n",
    "            \n",
    "            self.G = topology\n",
    "            self.N = self.G.number_of_nodes()\n",
    "            self.states = np.zeros([1,self.N])\n",
    "            init_zombies =  np.random.choice(self.G.number_of_nodes(),Znumber)\n",
    "            self.states[0,init_zombies] = 1 #SETTING ZOMBIE NODES TO STATE = 1\n",
    "            self.edges = np.array(g.edges())\n",
    "        \n",
    "        def step(self):\n",
    "            # G.size() returns number of EDGES! \n",
    "            link = int(np.random.choice(np.array(self.G.size()),1))\n",
    "            #link is a randomly chosen edge\n",
    "            #we check the states of the nodes on each side of link\n",
    "            agent1 = self.edges[link,0]\n",
    "            agent2 = self.edges[link,1]\n",
    "            state1 = self.states[0,agent1]\n",
    "            state2 = self.states[0,agent2]\n",
    "            #In order for the states to interact one has to be human, state = 0\n",
    "            #and the other has to be a zombie state = 1\n",
    "            #so it is sufficient to check if state1+state2 == 1\n",
    "            \n",
    "            if (state1 + state2 == 1): \n",
    "                #now we have to distinguish between them\n",
    "                if state1 == 0:\n",
    "                    human = agent1\n",
    "                    zombie = agent2\n",
    "                else:\n",
    "                    human = agent2\n",
    "                    zombie = agent1\n",
    "                roll = np.random.uniform()\n",
    "                if roll < kill_prob: \n",
    "                    #Human wins\n",
    "                    #Z --> R\n",
    "                    self.states[0,zombie] = 2\n",
    "                elif roll < kill_prob + inf_prob:\n",
    "                    #Zombie wins\n",
    "                    #H --> Z\n",
    "                    self.states[0,human] = 1\n",
    "                \n",
    "        def run(self, niter = 10**6):\n",
    "            i=0\n",
    "            while (i < niter):\n",
    "                self.step()\n",
    "            #NEED TO SAVE DATA DURING THE SIMULATION"
   ]
  },
  {
   "cell_type": "code",
   "execution_count": null,
   "metadata": {},
   "outputs": [],
   "source": []
  }
 ],
 "metadata": {
  "kernelspec": {
   "display_name": "Python 3",
   "language": "python",
   "name": "python3"
  },
  "language_info": {
   "codemirror_mode": {
    "name": "ipython",
    "version": 3
   },
   "file_extension": ".py",
   "mimetype": "text/x-python",
   "name": "python",
   "nbconvert_exporter": "python",
   "pygments_lexer": "ipython3",
   "version": "3.5.2"
  }
 },
 "nbformat": 4,
 "nbformat_minor": 2
}
